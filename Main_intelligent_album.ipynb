{
 "cells": [
  {
   "cell_type": "code",
   "execution_count": 1,
   "metadata": {},
   "outputs": [],
   "source": [
    "import glob\n",
    "import dlib\n",
    "import cv2\n",
    "import pickle\n",
    "import random\n",
    "import facevec\n",
    "import numpy as np"
   ]
  },
  {
   "cell_type": "code",
   "execution_count": 2,
   "metadata": {},
   "outputs": [],
   "source": [
    "pickle_in = open(\"C:/Users/Nitya/Downloads/Customer Recommendation systm/Customer Recommendation systm/intelligent_album_sni.pickle\",\"rb\")\n",
    "classifier = pickle.load(pickle_in)"
   ]
  },
  {
   "cell_type": "code",
   "execution_count": 3,
   "metadata": {},
   "outputs": [],
   "source": [
    "name = ['Sub1: ', 'Sub2: ', 'Unknown: ']"
   ]
  },
  {
   "cell_type": "code",
   "execution_count": 4,
   "metadata": {},
   "outputs": [],
   "source": [
    "font = cv2.FONT_HERSHEY_DUPLEX"
   ]
  },
  {
   "cell_type": "code",
   "execution_count": 5,
   "metadata": {},
   "outputs": [],
   "source": [
    "def intelligent_album(image):\n",
    "    \n",
    "    orig = cv2.imread(image)\n",
    "    img = cv2.resize(orig, (0, 0), fx=0.5, fy=0.5)\n",
    "    faces = facevec.detector(img,1)\n",
    "\n",
    "    if len(faces) > 0:\n",
    "        for i in range(len(faces)):\n",
    "\n",
    "            f = faces[i]\n",
    "            shapes = facevec.predictor(img,f)\n",
    "            face_descriptor = facevec.face_model.compute_face_descriptor(img, shapes)\n",
    "            face_descriptor = np.array(face_descriptor)\n",
    "            descriptor = face_descriptor.reshape(1,-1)\n",
    "            gender = classifier.predict_proba(descriptor)\n",
    "\n",
    "            if int(gender[0][gender.argmax()] * 100) >= 75:\n",
    "                person = name[gender.argmax()]\n",
    "                album = gender.argmax()\n",
    "\n",
    "            else:\n",
    "                person = 'Unknown: '\n",
    "                album = 2\n",
    "\n",
    "\n",
    "            cv2.rectangle(img,(f.left(), f.top()), (f.right(),f.top()-20),(0,255,0), -1)\n",
    "            cv2.rectangle(img, (f.left(), f.top()), (f.right(), f.bottom()),(0,255,0),1)\n",
    "            cv2.putText(img,   person +\n",
    "                        str(int(gender[0][gender.argmax()] * 100))+'%', (f.left(),f.top()), font, 0.6, (255,255,255), 0)\n",
    "\n",
    "\n",
    "        \n",
    "    else:\n",
    "        album = 2\n",
    "        \n",
    "        \n",
    "    if album == 0:\n",
    "        num = len(glob.glob('./Album/Sub1/*'))\n",
    "        cv2.imwrite('./Album/Sub1/sub1_'+str(num)+'.jpg', orig)\n",
    "        print('Saved Sucessfully in Album/Sub1 !!! :)')\n",
    "        \n",
    "    elif album == 1:\n",
    "        num = len(glob.glob('./Album/Sub2/*'))\n",
    "        cv2.imwrite('./Album/Sub2/sub2_'+str(num)+'.jpg', orig)\n",
    "        print('Saved Sucessfully in Album/Sub2 !!! :)')\n",
    "        \n",
    "    else:\n",
    "        num = len(glob.glob('./Album/Others/*'))\n",
    "        cv2.imwrite('./Album/Others/other_'+str(num)+'.jpg', orig)\n",
    "        print('Saved Sucessfully in Album/Others !!! :)')\n",
    "        "
   ]
  },
  {
   "cell_type": "code",
   "execution_count": 6,
   "metadata": {},
   "outputs": [],
   "source": [
    "images = glob.glob('./Images/*')\n",
    "for i in range(len(images)):\n",
    "    intelligent_album(images[i])"
   ]
  },
  {
   "cell_type": "code",
   "execution_count": null,
   "metadata": {},
   "outputs": [],
   "source": []
  }
 ],
 "metadata": {
  "kernelspec": {
   "display_name": "Python 3",
   "language": "python",
   "name": "python3"
  },
  "language_info": {
   "codemirror_mode": {
    "name": "ipython",
    "version": 3
   },
   "file_extension": ".py",
   "mimetype": "text/x-python",
   "name": "python",
   "nbconvert_exporter": "python",
   "pygments_lexer": "ipython3",
   "version": "3.6.9"
  }
 },
 "nbformat": 4,
 "nbformat_minor": 2
}
